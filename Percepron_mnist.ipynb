{
 "cells": [
  {
   "cell_type": "code",
   "execution_count": 1,
   "metadata": {},
   "outputs": [],
   "source": [
    "import matplotlib.pyplot as plt\n",
    "import mnist\n",
    "import numpy as np\n",
    "\n",
    "# this is used to silence the tensorflow built warnings\n",
    "import os\n",
    "os.environ['TF_CPP_MIN_LOG_LEVEL']='2'"
   ]
  },
  {
   "cell_type": "code",
   "execution_count": 2,
   "metadata": {},
   "outputs": [
    {
     "data": {
      "image/png": "[encoded data removed]",
      "text/plain": [
       "<Figure size 1000x300 with 4 Axes>"
      ]
     },
     "metadata": {},
     "output_type": "display_data"
    }
   ],
   "source": [
    "X_train = mnist.train_images()\n",
    "y_train = mnist.train_labels()\n",
    "fig, axes = plt.subplots(1, 4, figsize=(10, 3))\n",
    "for ax, image, label in zip(axes, X_train, y_train):\n",
    "    ax.imshow(image, cmap='gray')\n",
    "    ax.set_title(f'Target: {label}')\n",
    "plt.show()"
   ]
  },
  {
   "cell_type": "code",
   "execution_count": 3,
   "metadata": {},
   "outputs": [],
   "source": [
    "# there is a need to normalize, so each pixel code [0, 255] will be made into range [1, 1]\n",
    "X_train = 2*((X_train - np.min(X_train))/(np.ptp(X_train))-1)\n",
    "# np.ptp = max(x) - min(x)\n",
    "# print(np.ptp(X_train))\n",
    "# print(X_train.shape)\n",
    "\"\"\"flattening the images to 2d arrays\"\"\"\n",
    "X_train = X_train.reshape((-1, 784))  # -1 = number of rows is calculated automatically, 784=28x28 - im size in pixels"
   ]
  },
  {
   "cell_type": "code",
   "execution_count": 4,
   "metadata": {},
   "outputs": [],
   "source": [
    "# MODELING\n",
    "from tensorflow.keras.models import Sequential\n",
    "model = Sequential()\n",
    "from tensorflow.keras.layers import Dense\n",
    "# dense is used to collect data from all the neurons in the previous layer"
   ]
  },
  {
   "cell_type": "code",
   "execution_count": 5,
   "metadata": {},
   "outputs": [],
   "source": [
    "# first layer (activation function and size of the input layer)\n",
    "model.add(Dense(64, activation = 'sigmoid', input_shape = (784,)))\n",
    "# second layer\n",
    "model.add(Dense(64, activation = 'sigmoid'))  # sigmoid function is used for binary classifiaction\n",
    "# output layer\n",
    "model.add(Dense(10, activation = 'softmax'))  # softmax is used for multiple classification"
   ]
  },
  {
   "cell_type": "code",
   "execution_count": 6,
   "metadata": {},
   "outputs": [],
   "source": [
    "model.compile(\n",
    "  loss = 'categorical_crossentropy',\n",
    "  optimizer = 'sgd',\n",
    "  metrics = ['accuracy']\n",
    ")"
   ]
  },
  {
   "cell_type": "code",
   "execution_count": 7,
   "metadata": {},
   "outputs": [],
   "source": [
    "# training\n",
    "from tensorflow.keras.utils import to_categorical"
   ]
  },
  {
   "cell_type": "code",
   "execution_count": 8,
   "metadata": {},
   "outputs": [
    {
     "name": "stdout",
     "output_type": "stream",
     "text": [
      "Epoch 1/10\n",
      "1875/1875 [==============================] - 4s 2ms/step - loss: 2.1442 - accuracy: 0.4027\n",
      "Epoch 2/10\n",
      "1875/1875 [==============================] - 3s 2ms/step - loss: 1.4408 - accuracy: 0.6969\n",
      "Epoch 3/10\n",
      "1875/1875 [==============================] - 3s 2ms/step - loss: 0.8542 - accuracy: 0.8143\n",
      "Epoch 4/10\n",
      "1875/1875 [==============================] - 3s 2ms/step - loss: 0.6104 - accuracy: 0.8554\n",
      "Epoch 5/10\n",
      "1875/1875 [==============================] - 3s 2ms/step - loss: 0.4947 - accuracy: 0.8768\n",
      "Epoch 6/10\n",
      "1875/1875 [==============================] - 3s 2ms/step - loss: 0.4299 - accuracy: 0.8867\n",
      "Epoch 7/10\n",
      "1875/1875 [==============================] - 3s 2ms/step - loss: 0.3892 - accuracy: 0.8953\n",
      "Epoch 8/10\n",
      "1875/1875 [==============================] - 3s 2ms/step - loss: 0.3607 - accuracy: 0.8999\n",
      "Epoch 9/10\n",
      "1875/1875 [==============================] - 3s 2ms/step - loss: 0.3391 - accuracy: 0.9044\n",
      "Epoch 10/10\n",
      "1875/1875 [==============================] - 3s 2ms/step - loss: 0.3213 - accuracy: 0.9084\n"
     ]
    },
    {
     "data": {
      "text/plain": [
       "<keras.src.callbacks.History at 0x261bdc71890>"
      ]
     },
     "execution_count": 8,
     "metadata": {},
     "output_type": "execute_result"
    }
   ],
   "source": [
    "model.fit(\n",
    "  X_train, # where to train\n",
    "  to_categorical(y_train), # doing one-hot encoding of the y train\n",
    "  epochs = 10 # how many times will the process redo on the full DS\n",
    ")"
   ]
  },
  {
   "cell_type": "code",
   "execution_count": 9,
   "metadata": {},
   "outputs": [],
   "source": [
    "# test data\n",
    "X_test = mnist.test_images()\n",
    "y_test = mnist.test_labels()\n",
    "X_test = 2. * (X_test - np.min(X_test)) / np.ptp(X_test) - 1\n",
    "X_test = X_test.reshape((-1, 784))"
   ]
  },
  {
   "cell_type": "code",
   "execution_count": 10,
   "metadata": {},
   "outputs": [
    {
     "name": "stdout",
     "output_type": "stream",
     "text": [
      "313/313 [==============================] - 1s 1ms/step - loss: 0.3420 - accuracy: 0.9018\n"
     ]
    },
    {
     "data": {
      "text/plain": [
       "[0.34196504950523376, 0.9017999768257141]"
      ]
     },
     "execution_count": 10,
     "metadata": {},
     "output_type": "execute_result"
    }
   ],
   "source": [
    "model.evaluate(\n",
    "  X_test, # where to apply\n",
    "  to_categorical(y_test) # one-hot encoding of the target\n",
    ")"
   ]
  },
  {
   "cell_type": "code",
   "execution_count": 12,
   "metadata": {},
   "outputs": [
    {
     "name": "stdout",
     "output_type": "stream",
     "text": [
      "1/1 [==============================] - 0s 20ms/step\n",
      "1. Actual number - 7. Predicted number - 7\n",
      "2. Actual number - 8. Predicted number - 8\n",
      "3. Actual number - 9. Predicted number - 9\n",
      "4. Actual number - 0. Predicted number - 0\n",
      "5. Actual number - 1. Predicted number - 1\n",
      "6. Actual number - 2. Predicted number - 2\n",
      "7. Actual number - 3. Predicted number - 3\n",
      "8. Actual number - 4. Predicted number - 4\n",
      "9. Actual number - 5. Predicted number - 5\n",
      "10. Actual number - 6. Predicted number - 6\n"
     ]
    }
   ],
   "source": [
    "num = 10\n",
    "predicted_labels = model.predict(X_test[-num:])\n",
    "predicted_classes = np.argmax(predicted_labels, axis=1)\n",
    "\n",
    "for i in range(num):\n",
    "    actual_number = y_test[-num + i]\n",
    "    predicted_number = predicted_classes[i]\n",
    "    print(f\"{i+1}. Actual number - {actual_number}. Predicted number - {predicted_number}\")"
   ]
  }
 ],
 "metadata": {
  "kernelspec": {
   "display_name": "Python 3",
   "language": "python",
   "name": "python3"
  },
  "language_info": {
   "codemirror_mode": {
    "name": "ipython",
    "version": 3
   },
   "file_extension": ".py",
   "mimetype": "text/x-python",
   "name": "python",
   "nbconvert_exporter": "python",
   "pygments_lexer": "ipython3",
   "version": "3.11.5"
  },
  "orig_nbformat": 4
 },
 "nbformat": 4,
 "nbformat_minor": 2
}
